{
 "cells": [
  {
   "cell_type": "markdown",
   "id": "b6790f72",
   "metadata": {},
   "source": [
    "### Familiar: A Study In Data Analysis\n",
    "\n",
    "Welcome to Familiar, a startup in the new market of blood transfusion! You’ve joined the team because you appreciate the flexible hours and extremely intelligent team, but the overeager doorman welcoming you into the office is a nice way to start your workday (well, work-evening).\n",
    "\n",
    "Familiar has fallen into some tough times lately, so you’re hoping to help them make some insights about their product and help move the needle (so to speak).\n",
    "\n",
    "\n",
    "The Familiar team has provided us with some data on lifespans for subscribers to two different packages, the Vein Pack and the Artery Pack!"
   ]
  },
  {
   "cell_type": "code",
   "execution_count": 1,
   "id": "59a17f43",
   "metadata": {},
   "outputs": [],
   "source": [
    "# Import libraries\n",
    "import pandas as pd\n",
    "import numpy as np\n",
    "\n",
    "# Load datasets\n",
    "lifespans = pd.read_csv('familiar_lifespan.csv')\n",
    "iron = pd.read_csv('familiar_iron.csv')"
   ]
  },
  {
   "cell_type": "code",
   "execution_count": 2,
   "id": "eca36ea3",
   "metadata": {},
   "outputs": [
    {
     "data": {
      "text/html": [
       "<div>\n",
       "<style scoped>\n",
       "    .dataframe tbody tr th:only-of-type {\n",
       "        vertical-align: middle;\n",
       "    }\n",
       "\n",
       "    .dataframe tbody tr th {\n",
       "        vertical-align: top;\n",
       "    }\n",
       "\n",
       "    .dataframe thead th {\n",
       "        text-align: right;\n",
       "    }\n",
       "</style>\n",
       "<table border=\"1\" class=\"dataframe\">\n",
       "  <thead>\n",
       "    <tr style=\"text-align: right;\">\n",
       "      <th></th>\n",
       "      <th>pack</th>\n",
       "      <th>lifespan</th>\n",
       "    </tr>\n",
       "  </thead>\n",
       "  <tbody>\n",
       "    <tr>\n",
       "      <th>0</th>\n",
       "      <td>vein</td>\n",
       "      <td>76.255090</td>\n",
       "    </tr>\n",
       "    <tr>\n",
       "      <th>1</th>\n",
       "      <td>artery</td>\n",
       "      <td>76.404504</td>\n",
       "    </tr>\n",
       "    <tr>\n",
       "      <th>2</th>\n",
       "      <td>artery</td>\n",
       "      <td>75.952442</td>\n",
       "    </tr>\n",
       "    <tr>\n",
       "      <th>3</th>\n",
       "      <td>artery</td>\n",
       "      <td>76.923082</td>\n",
       "    </tr>\n",
       "    <tr>\n",
       "      <th>4</th>\n",
       "      <td>artery</td>\n",
       "      <td>73.771212</td>\n",
       "    </tr>\n",
       "  </tbody>\n",
       "</table>\n",
       "</div>"
      ],
      "text/plain": [
       "     pack   lifespan\n",
       "0    vein  76.255090\n",
       "1  artery  76.404504\n",
       "2  artery  75.952442\n",
       "3  artery  76.923082\n",
       "4  artery  73.771212"
      ]
     },
     "execution_count": 2,
     "metadata": {},
     "output_type": "execute_result"
    }
   ],
   "source": [
    "lifespans.head()"
   ]
  },
  {
   "cell_type": "markdown",
   "id": "ed754fd1",
   "metadata": {},
   "source": [
    "The first thing we want to know is whether Familiar’s most basic package, the Vein Pack, actually has a significant impact on the subscribers. It would be a marketing goldmine if we can show that subscribers to the Vein Pack live longer than other people.\n",
    "\n",
    "Is it longer than 73 years?"
   ]
  },
  {
   "cell_type": "code",
   "execution_count": 3,
   "id": "468eb136",
   "metadata": {},
   "outputs": [
    {
     "name": "stdout",
     "output_type": "stream",
     "text": [
      "Average vein pack 76.16901335636044\n"
     ]
    }
   ],
   "source": [
    "#2,3\n",
    "vein_pack = lifespans[lifespans.pack == 'vein']\n",
    "vein_pack_lifespans = vein_pack.lifespan\n",
    "print(\"Average vein pack\", np.mean(vein_pack_lifespans))"
   ]
  },
  {
   "cell_type": "markdown",
   "id": "7c01dfb8",
   "metadata": {},
   "source": [
    "We’d like to find out if the average lifespan of a Vein Pack subscriber is significantly different from the average life expectancy of 73 years.\n",
    "\n",
    "We would use to test the following null and alternative hypotheses:\n",
    "\n",
    "* Null: The average lifespan of a Vein Pack subscriber is 73 years.\n",
    "* Alternative: The average lifespan of a Vein Pack subscriber is NOT 73 years."
   ]
  },
  {
   "cell_type": "code",
   "execution_count": 4,
   "id": "f5981f4f",
   "metadata": {},
   "outputs": [
    {
     "name": "stdout",
     "output_type": "stream",
     "text": [
      "P-value: 5.972157921433211e-07\n",
      "Since our p-value is less than 0.05 it mean that we can reject null hypothesis and say that statistical difference is significant and therefore Vein pack subscribers have higher average lifespan\n"
     ]
    }
   ],
   "source": [
    "#4,5 One Sample T-test\n",
    "from scipy.stats import ttest_1samp\n",
    "tstat, pval_vein = ttest_1samp(vein_pack_lifespans, 73)\n",
    "print(\"P-value:\", pval_vein)\n",
    "print(\"Since our p-value is less than 0.05 it mean that we can reject null hypothesis and say that statistical difference is significant and therefore Vein pack subscribers have higher average lifespan\")"
   ]
  },
  {
   "cell_type": "markdown",
   "id": "19ef9549",
   "metadata": {},
   "source": [
    "In order to differentiate Familiar’s different product lines, we’d like to compare this lifespan data between our different packages. Our next step up from the Vein Pack is the Artery Pack. \n",
    "\n",
    "Is it longer than for the Vein Pack?"
   ]
  },
  {
   "cell_type": "code",
   "execution_count": 5,
   "id": "55e366c8",
   "metadata": {},
   "outputs": [
    {
     "name": "stdout",
     "output_type": "stream",
     "text": [
      "Average Artery pack 74.87366223517039\n"
     ]
    }
   ],
   "source": [
    "#6,7\n",
    "artery_pack = lifespans[lifespans.pack == 'artery']\n",
    "artery_pack_lifespans = artery_pack.lifespan\n",
    "print(\"Average Artery pack\", np.mean(artery_pack_lifespans))"
   ]
  },
  {
   "cell_type": "markdown",
   "id": "770dcf25",
   "metadata": {},
   "source": [
    "We’d like to find out if the average lifespan of a Vein Pack subscriber is significantly different from the average life expectancy for the Artery Pack.\n",
    "\n",
    "We would use to test the following null and alternative hypotheses:\n",
    "\n",
    "* Null: The average lifespan of a Vein Pack subscriber is equal to the average lifespan of an Artery Pack subscriber.\n",
    "* Alternative: The average lifespan of a Vein Pack subscriber is NOT equal to the average lifespan of an Artery Pack subscriber."
   ]
  },
  {
   "cell_type": "code",
   "execution_count": 6,
   "id": "478c2cf2",
   "metadata": {},
   "outputs": [
    {
     "name": "stdout",
     "output_type": "stream",
     "text": [
      "P-value: 0.05588883079070819\n",
      "Since our p-value is more than 0.05 threshold it means that we can accept null hypothesis and say that statistical difference is not significant and therefore Vein pack and Artery pack subscribers have similar lifespan\n"
     ]
    }
   ],
   "source": [
    "#8,9 Two Sample T-test\n",
    "from scipy.stats import ttest_ind\n",
    "tstat, pval_two = ttest_ind(vein_pack_lifespans, artery_pack_lifespans)\n",
    "print(\"P-value:\", pval_two)\n",
    "print(\"Since our p-value is more than 0.05 threshold it means that we can accept null hypothesis and say that statistical difference is not significant and therefore Vein pack and Artery pack subscribers have similar lifespan\")"
   ]
  },
  {
   "cell_type": "markdown",
   "id": "71aeac0b",
   "metadata": {},
   "source": [
    "The Familiar team has provided us with another dataset containing survey data about iron counts for our subscribers. This data has been pre-processed to categorize iron counts as “low”, “normal”, and “high” for each subscriber. Familiar wants to be able to advise potential subscribers about possible side effects of these packs and whether they differ for the Vein vs. the Artery pack.\n",
    "\n",
    "\n",
    "Is there an association between the pack that a subscriber gets (Vein vs. Artery) and their iron level? "
   ]
  },
  {
   "cell_type": "code",
   "execution_count": 7,
   "id": "66f23afa",
   "metadata": {},
   "outputs": [
    {
     "data": {
      "text/html": [
       "<div>\n",
       "<style scoped>\n",
       "    .dataframe tbody tr th:only-of-type {\n",
       "        vertical-align: middle;\n",
       "    }\n",
       "\n",
       "    .dataframe tbody tr th {\n",
       "        vertical-align: top;\n",
       "    }\n",
       "\n",
       "    .dataframe thead th {\n",
       "        text-align: right;\n",
       "    }\n",
       "</style>\n",
       "<table border=\"1\" class=\"dataframe\">\n",
       "  <thead>\n",
       "    <tr style=\"text-align: right;\">\n",
       "      <th></th>\n",
       "      <th>pack</th>\n",
       "      <th>iron</th>\n",
       "    </tr>\n",
       "  </thead>\n",
       "  <tbody>\n",
       "    <tr>\n",
       "      <th>0</th>\n",
       "      <td>vein</td>\n",
       "      <td>low</td>\n",
       "    </tr>\n",
       "    <tr>\n",
       "      <th>1</th>\n",
       "      <td>artery</td>\n",
       "      <td>normal</td>\n",
       "    </tr>\n",
       "    <tr>\n",
       "      <th>2</th>\n",
       "      <td>artery</td>\n",
       "      <td>normal</td>\n",
       "    </tr>\n",
       "    <tr>\n",
       "      <th>3</th>\n",
       "      <td>artery</td>\n",
       "      <td>normal</td>\n",
       "    </tr>\n",
       "    <tr>\n",
       "      <th>4</th>\n",
       "      <td>artery</td>\n",
       "      <td>high</td>\n",
       "    </tr>\n",
       "  </tbody>\n",
       "</table>\n",
       "</div>"
      ],
      "text/plain": [
       "     pack    iron\n",
       "0    vein     low\n",
       "1  artery  normal\n",
       "2  artery  normal\n",
       "3  artery  normal\n",
       "4  artery    high"
      ]
     },
     "execution_count": 7,
     "metadata": {},
     "output_type": "execute_result"
    }
   ],
   "source": [
    "iron.head()"
   ]
  },
  {
   "cell_type": "markdown",
   "id": "fd615272",
   "metadata": {},
   "source": [
    "We’d like to find out if there is a significant association between which pack (Vein vs. Artery) someone subscribes to and their iron level.\n",
    "\n",
    "We would use to test the following null and alternative hypotheses:\n",
    "\n",
    "* Null: There is NOT an association between which pack (Vein vs. Artery) someone subscribes to and their iron level.\n",
    "* Alternative: There is an association between which pack (Vein vs. Artery) someone subscribes to and their iron level."
   ]
  },
  {
   "cell_type": "code",
   "execution_count": 8,
   "id": "c847aacc",
   "metadata": {},
   "outputs": [
    {
     "name": "stdout",
     "output_type": "stream",
     "text": [
      "iron    high  low  normal\n",
      "pack                     \n",
      "artery    87   29      29\n",
      "vein      20  140      40\n"
     ]
    }
   ],
   "source": [
    "#11 Contingency table creation\n",
    "Xtab = pd.crosstab(iron.pack, iron.iron)\n",
    "print(Xtab)"
   ]
  },
  {
   "cell_type": "code",
   "execution_count": 9,
   "id": "4d8653cd",
   "metadata": {},
   "outputs": [
    {
     "name": "stdout",
     "output_type": "stream",
     "text": [
      "P-value: 9.359749337433008e-25\n",
      "Since our p-value is less than 0.05 threshold we can reject null hypothesis and say that there is an association between which breed (poodle vs. shihtzu) and their color\n"
     ]
    }
   ],
   "source": [
    "# Chi-Square Test\n",
    "from scipy.stats import chi2_contingency\n",
    "chi2, pval_chi, dof, expected = chi2_contingency(Xtab)\n",
    "print(\"P-value:\", pval_chi)\n",
    "print(\"Since our p-value is less than 0.05 threshold we can reject null hypothesis and say that there is an association between which breed (poodle vs. shihtzu) and their color\")"
   ]
  },
  {
   "cell_type": "code",
   "execution_count": null,
   "id": "d66dba32",
   "metadata": {},
   "outputs": [],
   "source": []
  }
 ],
 "metadata": {
  "kernelspec": {
   "display_name": "Python 3 (ipykernel)",
   "language": "python",
   "name": "python3"
  },
  "language_info": {
   "codemirror_mode": {
    "name": "ipython",
    "version": 3
   },
   "file_extension": ".py",
   "mimetype": "text/x-python",
   "name": "python",
   "nbconvert_exporter": "python",
   "pygments_lexer": "ipython3",
   "version": "3.9.7"
  }
 },
 "nbformat": 4,
 "nbformat_minor": 5
}
